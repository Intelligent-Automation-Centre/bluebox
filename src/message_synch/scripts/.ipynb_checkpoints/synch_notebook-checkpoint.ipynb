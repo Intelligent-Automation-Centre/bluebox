{
 "cells": [
  {
   "cell_type": "code",
   "execution_count": 4,
   "metadata": {},
   "outputs": [],
   "source": [
    "#!/usr/bin/env python\n",
    "# license removed for brevity\n",
    "import rospy\n",
    "from std_msgs.msg import String\n",
    "from muscle_activity.msg import muscle_eg_signal\n",
    "import time\n",
    "import numpy as np\n",
    "import message_filters\n",
    "from geometry_msgs import msg"
   ]
  },
  {
   "cell_type": "code",
   "execution_count": 5,
   "metadata": {},
   "outputs": [],
   "source": [
    "def callback(image, camera_info):\n",
    "  # Solve all of perception here...\n",
    "    print 'in callback'\n",
    "    rospy.loginfo('In callback')"
   ]
  },
  {
   "cell_type": "code",
   "execution_count": null,
   "metadata": {},
   "outputs": [],
   "source": [
    "\n",
    "rospy.init_node('py_message_synchroniser', anonymous=True)\n",
    "rate = rospy.Rate(10000) # 10hz\n",
    "image_sub = message_filters.Subscriber('/muscles_activity_pub', muscle_eg_signal)\n",
    "info_sub = message_filters.Subscriber('/ft_sensor/netft_data', msg.WrenchStamped)\n",
    "\n",
    "ts = message_filters.TimeSynchronizer([image_sub, info_sub], 100)\n",
    "ts.registerCallback(callback)\n",
    "rospy.spin()"
   ]
  },
  {
   "cell_type": "code",
   "execution_count": 5,
   "metadata": {},
   "outputs": [],
   "source": []
  },
  {
   "cell_type": "code",
   "execution_count": null,
   "metadata": {},
   "outputs": [],
   "source": []
  }
 ],
 "metadata": {
  "kernelspec": {
   "display_name": "Python 2",
   "language": "python",
   "name": "python2"
  }
 },
 "nbformat": 4,
 "nbformat_minor": 2
}
